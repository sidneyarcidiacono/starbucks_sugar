{
 "cells": [
  {
   "cell_type": "code",
   "execution_count": 2,
   "metadata": {},
   "outputs": [],
   "source": [
    "import csv #the csv library\n",
    "with open('drinks.csv') as csvfile: #open the file\n",
    "    #creates a csv reader object which stores the lines of the files in lists and lets us iterate over them\n",
    "    drinksreader = csv.reader(csvfile) \n",
    "    headers = next(drinksreader, None) #skip over the headers\n",
    "#     for row in drinksreader:\n",
    "#         print(row)#take a look at what is being printed out"
   ]
  },
  {
   "cell_type": "code",
   "execution_count": null,
   "metadata": {},
   "outputs": [],
   "source": [
    "drink_category_index = headers.index(\"Beverage\")\n",
    "sugars_index = headers.index(\" Sugars (g)\")\n",
    "\n",
    "sugar_in_lattes = []\n",
    "sugar_in_teas = []\n",
    "sugar_in_mochas = []\n",
    "    \n",
    "for row in drinksreader:\n",
    "    drink_category = row[drink_category_index]\n",
    "    sugar_grams = row[sugars_index]\n",
    "    if 'Latte' in drink_category:\n",
    "        sugar_in_lattes.append(float(sugar_grams))\n",
    "    if 'Tea' in drink_category:\n",
    "        sugar_in_teas.append(float(sugar_grams))\n",
    "    if 'Mocha' in drink_category:\n",
    "        sugar_in_mochas.append(float(sugar_grams))\n",
    "        \n",
    "beverage_categories = [\"Latte\", 'Tea', 'Mocha']\n",
    "#average the sugar content\n",
    "average_sugar_in_lattes = np.mean(sugar_in_lattes)\n",
    "average_sugar_in_teas = np.mean(sugar_in_teas)\n",
    "average_sugar_in_mochas = np.mean(sugar_in_mochas)\n",
    "\n",
    "average_sugars = [average_sugar_in_lattes, average_sugar_in_teas, average_sugar_in_mochas]\n",
    "    \n",
    "vertical_bar_chart_figure = plt.figure() #The outer container \n",
    "vertical_bar_chart_axes = vertical_bar_chart_figure.add_axes([0.1, 0.2, 0.8, 0.9]) #The actual chart inside the figure\n",
    "#For more explanation: https://heartbeat.fritz.ai/introduction-to-matplotlib-data-visualization-in-python-d9143287ae39\n",
    "\n",
    "#Create the bar chart using the bar() method\n",
    "#The color argument lets us specify a list of colors for each of the bars\n",
    "vertical_bar_chart_axes.bar(beverage_categories, average_sugars, color=[\"pink\", \"blue\", \"green\"])\n",
    "\n",
    "#Let's customize our chart!\n",
    "\n",
    "#Give it a title\n",
    "vertical_bar_chart_axes.set_title('Vertical bar chart of average sugar in grams for different types of beverages on the Starbucks menu')\n",
    "\n",
    "#Always label your axis or no one will be able to understand what the chart is showing\n",
    "vertical_bar_chart_axes.set_ylabel('Average sugar content in grams')\n",
    "vertical_bar_chart_axes.set_xlabel('Beverage type')\n",
    "\n",
    "#How would we create a horizontal bar chart? Use the barh() method!\n",
    "\n",
    "horizontal_bar_chart_figure = plt.figure() #The outer container \n",
    "horizontal_bar_chart_axes = horizontal_bar_chart_figure.add_axes([0.1, 0.2, 0.8, 0.9]) #The actual chart inside the figure\n",
    "#For more explanation: https://heartbeat.fritz.ai/introduction-to-matplotlib-data-visualization-in-python-d9143287ae39\n",
    "\n",
    "#Create the bar chart using the barh() method\n",
    "#The color argument lets us specify a list of colors for each of the bars\n",
    "horizontal_bar_chart_axes.barh(beverage_categories, average_sugars, color=[\"pink\", \"blue\", \"green\"])\n",
    "\n",
    "#Let's customize our chart!\n",
    "\n",
    "#Give it a title\n",
    "horizontal_bar_chart_axes.set_title('Horixontal bar chart of average sugar in grams for different types of beverages on the Starbucks menu')\n",
    "\n",
    "#Always label your axis or no one will be able to understand what the chart is showing\n",
    "horizontal_bar_chart_axes.set_ylabel('Average sugar content in grams')\n",
    "horizontal_bar_chart_axes.set_xlabel('Beverage type')\n"
   ]
  }
 ],
 "metadata": {
  "kernelspec": {
   "display_name": "Python 3",
   "language": "python",
   "name": "python3"
  },
  "language_info": {
   "codemirror_mode": {
    "name": "ipython",
    "version": 3
   },
   "file_extension": ".py",
   "mimetype": "text/x-python",
   "name": "python",
   "nbconvert_exporter": "python",
   "pygments_lexer": "ipython3",
   "version": "3.8.3"
  }
 },
 "nbformat": 4,
 "nbformat_minor": 4
}
